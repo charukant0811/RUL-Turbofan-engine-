{
 "cells": [
  {
   "cell_type": "code",
   "execution_count": 2,
   "metadata": {},
   "outputs": [
    {
     "ename": "ModuleNotFoundError",
     "evalue": "No module named 'keras'",
     "output_type": "error",
     "traceback": [
      "\u001b[1;31m---------------------------------------------------------------------------\u001b[0m",
      "\u001b[1;31mModuleNotFoundError\u001b[0m                       Traceback (most recent call last)",
      "\u001b[1;32m~\\AppData\\Local\\Temp/ipykernel_22648/1397122036.py\u001b[0m in \u001b[0;36m<module>\u001b[1;34m\u001b[0m\n\u001b[0;32m      4\u001b[0m \u001b[1;33m\u001b[0m\u001b[0m\n\u001b[0;32m      5\u001b[0m \u001b[1;32mfrom\u001b[0m \u001b[0msklearn\u001b[0m\u001b[1;33m.\u001b[0m\u001b[0mpreprocessing\u001b[0m \u001b[1;32mimport\u001b[0m \u001b[0mMinMaxScaler\u001b[0m\u001b[1;33m\u001b[0m\u001b[1;33m\u001b[0m\u001b[0m\n\u001b[1;32m----> 6\u001b[1;33m \u001b[1;32mfrom\u001b[0m \u001b[0mkeras\u001b[0m\u001b[1;33m.\u001b[0m\u001b[0mpreprocessing\u001b[0m\u001b[1;33m.\u001b[0m\u001b[0msequence\u001b[0m \u001b[1;32mimport\u001b[0m \u001b[0mTimeseriesGenerator\u001b[0m\u001b[1;33m\u001b[0m\u001b[1;33m\u001b[0m\u001b[0m\n\u001b[0m\u001b[0;32m      7\u001b[0m \u001b[1;32mfrom\u001b[0m \u001b[0msklearn\u001b[0m \u001b[1;32mimport\u001b[0m \u001b[0mmetrics\u001b[0m\u001b[1;33m\u001b[0m\u001b[1;33m\u001b[0m\u001b[0m\n\u001b[0;32m      8\u001b[0m \u001b[1;33m\u001b[0m\u001b[0m\n",
      "\u001b[1;31mModuleNotFoundError\u001b[0m: No module named 'keras'"
     ]
    }
   ],
   "source": [
    "import numpy as np\n",
    "import matplotlib.pyplot as plt\n",
    "import pandas as pd\n",
    "\n",
    "from sklearn.preprocessing import MinMaxScaler\n",
    "from keras.preprocessing.sequence import TimeseriesGenerator\n",
    "from sklearn import metrics\n",
    "\n",
    "import keras\n",
    "from keras.models import Sequential\n",
    "from keras.layers import Dense, Conv2D, Flatten"
   ]
  },
  {
   "cell_type": "markdown",
   "metadata": {},
   "source": [
    "# Data Preparation For the Convolutional Neural Network"
   ]
  },
  {
   "cell_type": "code",
   "execution_count": null,
   "metadata": {},
   "outputs": [],
   "source": [
    "Train_no=1\n",
    "engine_id=50\n",
    "\n",
    "\n",
    "df=pd.read_csv(\"Processed_Train_00{}.csv\".format(Train_no))\n",
    "df = df[df['ID']==engine_id]\n",
    "df = df.drop(columns=['ID'])\n",
    "\n",
    "df"
   ]
  },
  {
   "cell_type": "code",
   "execution_count": null,
   "metadata": {},
   "outputs": [],
   "source": [
    "################################## Scalling the DATA\n",
    "scaler=MinMaxScaler()\n",
    "df = scaler.fit_transform(df)\n",
    "print('Shape of df for engine {}: '.format(engine_id),df.shape)\n",
    "df"
   ]
  },
  {
   "cell_type": "code",
   "execution_count": null,
   "metadata": {},
   "outputs": [],
   "source": [
    "################################    Getting into training shape with slidingwindow\n",
    "features = df[:,0:-1]\n",
    "target = df[:,-1]\n",
    "\n",
    "target"
   ]
  },
  {
   "cell_type": "code",
   "execution_count": null,
   "metadata": {},
   "outputs": [],
   "source": [
    "win_length = 25   ######### Sliding Window Length\n",
    "feature_num = 13  ######### Total number of features\n",
    "\n",
    "ts_generator = TimeseriesGenerator(features,target,length=win_length,sampling_rate=1,batch_size=1)"
   ]
  },
  {
   "cell_type": "code",
   "execution_count": null,
   "metadata": {},
   "outputs": [],
   "source": [
    "ts_generator[0]"
   ]
  },
  {
   "cell_type": "code",
   "execution_count": null,
   "metadata": {},
   "outputs": [],
   "source": [
    "print('Shape of the input features',np.shape(ts_generator[0][0]))\n",
    "print((ts_generator[0][0]))\n",
    "print('\\n')\n",
    "print('Shape of the output variable',np.shape(ts_generator[0][1]))\n",
    "print(ts_generator[0][1])"
   ]
  },
  {
   "cell_type": "code",
   "execution_count": null,
   "metadata": {},
   "outputs": [],
   "source": [
    "X=[]\n",
    "y=[]\n",
    "\n",
    "x_temp, y_temp = ts_generator[0]\n",
    "X.append(x_temp.reshape(x_temp.shape[1],x_temp.shape[2],1))\n",
    "y.append(y_temp)\n",
    "\n",
    "print(X)\n",
    "print(y)"
   ]
  },
  {
   "cell_type": "code",
   "execution_count": null,
   "metadata": {
    "scrolled": true
   },
   "outputs": [],
   "source": [
    "def Data_format_conversion(Train_no,engine_id):    \n",
    "    \n",
    "    import pandas as pd\n",
    "    import numpy as np\n",
    "    df=pd.read_csv(\"Processed_Train_00{}.csv\".format(Train_no))\n",
    "    df = df[df['ID']==engine_id]\n",
    "    df = df.drop(columns=['ID'])\n",
    "\n",
    "    ################################## Scalling the DATA\n",
    "    scaler=MinMaxScaler()\n",
    "    df = scaler.fit_transform(df)\n",
    "    print('Shape of df for engine {}: '.format(engine_id),df.shape)\n",
    "\n",
    "    ################################    Getting into training shape with slidingwindow\n",
    "    features = df[:,0:-1]\n",
    "    target = df[:,-1]\n",
    "\n",
    "\n",
    "\n",
    "    ts_generator = TimeseriesGenerator(features,target,length=win_length,sampling_rate=1,batch_size=1)\n",
    "\n",
    "    ################################ Changing the shape of input to (no of smaples,window_length,features)\n",
    "    X=[]\n",
    "    y=[]\n",
    "    for i in range(len(ts_generator)):\n",
    "        x_temp, y_temp = ts_generator[i]\n",
    "        X.append(x_temp.reshape(x_temp.shape[1],x_temp.shape[2],1))\n",
    "        y.append(y_temp)\n",
    "\n",
    "    X=np.array(X)  \n",
    "    y=np.array(y)  \n",
    "    \n",
    "    return(X,y,scaler,features)"
   ]
  },
  {
   "cell_type": "markdown",
   "metadata": {},
   "source": [
    "# Training the CNN Model"
   ]
  },
  {
   "cell_type": "code",
   "execution_count": null,
   "metadata": {},
   "outputs": [],
   "source": [
    "win_length = 25   ######### Sliding Window Length\n",
    "feature_num = 13  ######### Total number of features\n",
    "\n",
    "model=Sequential()\n",
    "# CNN\n",
    "model.add(Conv2D(filters=64, kernel_size=3, activation='relu', input_shape=(win_length,feature_num,1)))\n",
    "model.add(Conv2D(filters=32, kernel_size=3, activation='relu'))\n",
    "model.add(Flatten())\n",
    "model.add(Dense(1, activation='linear'))\n",
    "\n",
    "model.compile(loss='mean_squared_error',optimizer='adam',metrics=['mean_squared_error'])\n",
    "#model.summary()"
   ]
  },
  {
   "cell_type": "code",
   "execution_count": null,
   "metadata": {},
   "outputs": [],
   "source": [
    "\n",
    "###############################  Fitting the training data with CNN\n",
    "Train_no=1\n",
    "for engine_no in range(1,50):    \n",
    "    X,y,scaler,features=Data_format_conversion(Train_no,engine_no) \n",
    "    \n",
    "    model.fit(X,y,steps_per_epoch=5,epochs=15,shuffle=False,verbose=0)"
   ]
  },
  {
   "cell_type": "markdown",
   "metadata": {},
   "source": [
    "# Loading the saved model"
   ]
  },
  {
   "cell_type": "code",
   "execution_count": null,
   "metadata": {},
   "outputs": [],
   "source": [
    "from keras.models import load_model\n",
    " \n",
    "# load model\n",
    "model = load_model('model_1.h5')"
   ]
  },
  {
   "cell_type": "markdown",
   "metadata": {},
   "source": [
    "# Predict on Training data"
   ]
  },
  {
   "cell_type": "code",
   "execution_count": null,
   "metadata": {},
   "outputs": [],
   "source": [
    "Train_no=1\n",
    "engine_id = 1\n",
    "X,y,scaler,features=Data_format_conversion(Train_no,engine_id) "
   ]
  },
  {
   "cell_type": "code",
   "execution_count": null,
   "metadata": {},
   "outputs": [],
   "source": [
    "X.shape"
   ]
  },
  {
   "cell_type": "code",
   "execution_count": null,
   "metadata": {},
   "outputs": [],
   "source": [
    "prediction=model.predict(X) ######### prediction on trained data\n",
    "np.shape(prediction)"
   ]
  },
  {
   "cell_type": "code",
   "execution_count": null,
   "metadata": {},
   "outputs": [],
   "source": [
    "len(features)"
   ]
  },
  {
   "cell_type": "code",
   "execution_count": null,
   "metadata": {},
   "outputs": [],
   "source": [
    "rev_trans =pd.concat([pd.DataFrame(features[win_length:]),pd.DataFrame(prediction)],axis=1)\n",
    "rev_trans"
   ]
  },
  {
   "cell_type": "code",
   "execution_count": null,
   "metadata": {},
   "outputs": [],
   "source": [
    "rev_trans = scaler.inverse_transform(rev_trans)######## Transforming back to original scale\n",
    "rev_trans =pd.DataFrame(rev_trans)\n",
    "rev_trans"
   ]
  },
  {
   "cell_type": "code",
   "execution_count": null,
   "metadata": {},
   "outputs": [],
   "source": [
    "    \n",
    "df=pd.read_csv(\"Processed_Train_00{}.csv\".format(Train_no))\n",
    "df = df[df['ID']==engine_id]\n",
    "df_actual = df.drop(columns=['ID'])\n",
    "df_actual"
   ]
  },
  {
   "cell_type": "code",
   "execution_count": null,
   "metadata": {},
   "outputs": [],
   "source": [
    "print('RMSE on This set:', np.sqrt(metrics.mean_squared_error(df_actual['RUL'][win_length:],rev_trans[13])))"
   ]
  },
  {
   "cell_type": "code",
   "execution_count": null,
   "metadata": {},
   "outputs": [],
   "source": [
    "plt.plot(df_actual['Cycle'][win_length:],df_actual['RUL'][win_length:])\n",
    "plt.plot(rev_trans[0],rev_trans[13])\n",
    "plt.ylabel('RUL')\n",
    "plt.xlabel('CYCLE')\n",
    "plt.title('Engine No is: {}'.format(engine_id))\n",
    "plt.legend([ 'Actual','Prediction'], loc='upper right')\n",
    "plt.show()\n",
    "print('\\n')"
   ]
  },
  {
   "cell_type": "code",
   "execution_count": null,
   "metadata": {},
   "outputs": [],
   "source": [
    "Train_no=1\n",
    "\n",
    "m = np.random.randint(low=1,high=50,size=25) \n",
    "\n",
    "for i in m:    \n",
    "    engine_id=i\n",
    "    X,y,scaler,features=Data_format_conversion(Train_no,engine_id) \n",
    "\n",
    "    prediction=model.predict(X) ######### prediction on trained data\n",
    "    rev_trans =pd.concat([pd.DataFrame(features[win_length:]),pd.DataFrame(prediction)],axis=1)\n",
    "    rev_trans = scaler.inverse_transform(rev_trans)######## Transforming back to original scale\n",
    "    rev_trans =pd.DataFrame(rev_trans)\n",
    "\n",
    "    \n",
    "    df=pd.read_csv(\"Processed_Train_00{}.csv\".format(Train_no))\n",
    "    df = df[df['ID']==engine_id]\n",
    "    df_actual = df.drop(columns=['ID'])\n",
    "\n",
    "\n",
    "    print('RMSE on This set:', np.sqrt(metrics.mean_squared_error(df_actual['RUL'][win_length:],rev_trans[13])))\n",
    "\n",
    "    plt.plot(df_actual['Cycle'][win_length:],df_actual['RUL'][win_length:])\n",
    "    plt.plot(rev_trans[0],rev_trans[13])\n",
    "    plt.ylabel('RUL')\n",
    "    plt.xlabel('CYCLE')\n",
    "    plt.title('Engine No is: {}'.format(engine_id))\n",
    "    plt.legend([ 'Actual','Prediction'], loc='upper right')\n",
    "    plt.show()\n",
    "    print('\\n')"
   ]
  },
  {
   "cell_type": "markdown",
   "metadata": {},
   "source": [
    "# Predict on Test data"
   ]
  },
  {
   "cell_type": "code",
   "execution_count": null,
   "metadata": {},
   "outputs": [],
   "source": [
    "Train_no=1\n",
    "\n",
    "n = np.random.randint(low=51,high=100,size=25) \n",
    "\n",
    "for i in n:    \n",
    "    engine_id=i\n",
    "    X,y,scaler,features=Data_format_conversion(Train_no,engine_id) \n",
    "\n",
    "    prediction=model.predict(X) ######### prediction on trained data\n",
    "    rev_trans =pd.concat([pd.DataFrame(features[win_length:]),pd.DataFrame(prediction)],axis=1)\n",
    "    rev_trans = scaler.inverse_transform(rev_trans)######## Transforming back to original scale\n",
    "    rev_trans =pd.DataFrame(rev_trans)\n",
    "\n",
    "    df=pd.read_csv(\"Processed_Train_00{}.csv\".format(Train_no))\n",
    "    df = df[df['ID']==engine_id]\n",
    "    df_actual = df.drop(columns=['ID'])\n",
    "\n",
    "\n",
    "    print('RMSE on This set:', np.sqrt(metrics.mean_squared_error(df_actual['RUL'][win_length:],rev_trans[13])))\n",
    "\n",
    "    plt.plot(df_actual['Cycle'][win_length:],df_actual['RUL'][win_length:])\n",
    "    plt.plot(rev_trans[0],rev_trans[13])\n",
    "    plt.ylabel('RUL')\n",
    "    plt.xlabel('CYCLE')\n",
    "    plt.title('Engine No is: {}'.format(engine_no))\n",
    "    plt.legend([ 'Actual','Prediction'], loc='upper right')\n",
    "    plt.show()\n",
    "    print('\\n')"
   ]
  },
  {
   "cell_type": "code",
   "execution_count": null,
   "metadata": {},
   "outputs": [],
   "source": [
    "# save model and architecture to single file\n",
    "model.save(\"model_1.h5\")\n",
    "print(\"Saved model to disk\")"
   ]
  },
  {
   "cell_type": "code",
   "execution_count": null,
   "metadata": {},
   "outputs": [],
   "source": []
  }
 ],
 "metadata": {
  "kernelspec": {
   "display_name": "Python 3 (ipykernel)",
   "language": "python",
   "name": "python3"
  },
  "language_info": {
   "codemirror_mode": {
    "name": "ipython",
    "version": 3
   },
   "file_extension": ".py",
   "mimetype": "text/x-python",
   "name": "python",
   "nbconvert_exporter": "python",
   "pygments_lexer": "ipython3",
   "version": "3.9.7"
  },
  "varInspector": {
   "cols": {
    "lenName": 16,
    "lenType": 16,
    "lenVar": 40
   },
   "kernels_config": {
    "python": {
     "delete_cmd_postfix": "",
     "delete_cmd_prefix": "del ",
     "library": "var_list.py",
     "varRefreshCmd": "print(var_dic_list())"
    },
    "r": {
     "delete_cmd_postfix": ") ",
     "delete_cmd_prefix": "rm(",
     "library": "var_list.r",
     "varRefreshCmd": "cat(var_dic_list()) "
    }
   },
   "types_to_exclude": [
    "module",
    "function",
    "builtin_function_or_method",
    "instance",
    "_Feature"
   ],
   "window_display": false
  }
 },
 "nbformat": 4,
 "nbformat_minor": 4
}
